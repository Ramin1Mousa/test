{
 "cells": [
  {
   "cell_type": "markdown",
   "metadata": {},
   "source": [
    "<div style=\"direction:rtl\">\n",
    "در این گام ابتدا کتابخانه های مورد نظر را فراخوانی می کنیم. این کتابخانه ها برای پیش پردازش و تمیز کردن دیتا استفاده می شوند. همچنین ماژول های مربوط به شبکه های عصبی را فراخوانی می کنیم \n",
    "</div>"
   ]
  },
  {
   "cell_type": "code",
   "execution_count": 1,
   "metadata": {},
   "outputs": [],
   "source": [
    "import torch\n",
    "from torch.utils import data\n",
    "import os\n",
    "import numpy as np\n",
    "import PIL\n",
    "from PIL import Image\n",
    "from sklearn.metrics import confusion_matrix\n",
    "import matplotlib.pyplot as plt\n",
    "import pandas as pd\n",
    "import seaborn as sns \n",
    "import numpy as np\n",
    "import matplotlib.pyplot as plt\n",
    "import json\n",
    "import random\n",
    "import torch\n",
    "import torch.nn as nn\n",
    "import torch.nn.functional as f\n",
    "import torch.optim as optim\n",
    "import numpy as np\n",
    "import os\n",
    "import cv2\n",
    "from scipy.misc import imread\n",
    "from torch.utils import data\n",
    "import random\n",
    "from MyModels import vgg16\n",
    "from DataLoader import MyDataset\n",
    "from tqdm import tqdm\n",
    "from tensorboardX import SummaryWriter\n",
    "import torch.nn as nn\n",
    "import torch.utils.model_zoo as model_zoo"
   ]
  },
  {
   "cell_type": "markdown",
   "metadata": {},
   "source": [
    "<div style=\"direction:rtl\">\n",
    "دراین گام کلاسی برای فراخونی داده ها که تصویر هستند تعریف می کنیم. خروجی این کلاس تصویر و برجسب تصویر می باشد\n",
    "</div>"
   ]
  },
  {
   "cell_type": "code",
   "execution_count": 2,
   "metadata": {},
   "outputs": [],
   "source": [
    "\n",
    "class MyDataset(data.Dataset):\n",
    "    def __init__(self, root_dir_pos, root_dir_neg, list_IDs, labels):\n",
    "        self.labels = labels\n",
    "        self.list_IDs = list_IDs\n",
    "        self.root_dir_pos = root_dir_pos\n",
    "        self.root_dir_neg = root_dir_neg\n",
    "\n",
    "    def __len__(self):\n",
    "        return len(self.list_IDs)\n",
    "\n",
    "    def __getitem__(self, index):\n",
    "        ID = self.list_IDs[index]\n",
    "        # x = torch.load(ID)\n",
    "        if ID in os.listdir(self.root_dir_neg):\n",
    "            x = np.array(Image.open(self.root_dir_neg + ID)).astype(np.float)\n",
    "        else:\n",
    "            x = np.array(Image.open(self.root_dir_pos + ID)).astype(np.float)\n",
    "\n",
    "        x = torch.from_numpy(x)\n",
    "        x = x.transpose(0,2).transpose(1,2)\n",
    "        x = (x - x.min())/(x.max()-x.min())\n",
    "        x = x.type(torch.FloatTensor)\n",
    "        # print(x.shape)\n",
    "        x = x[:,:,1:129]\n",
    "        y = self.labels[ID]\n",
    "        return x, y"
   ]
  },
  {
   "cell_type": "code",
   "execution_count": 3,
   "metadata": {},
   "outputs": [],
   "source": [
    "\n",
    "class Net(nn.Module):\n",
    "    def __init__(self):\n",
    "        super(Net, self).__init__()\n",
    "        self.conv1 = nn.Conv2d(3,4,5)\n",
    "        self.conv2 = nn.Conv2d(4,4,5)\n",
    "        self.conv3 = nn.Conv2d(4,6,5)\n",
    "        self.conv4 = nn.Conv2d(6,6,5)\n",
    "        self.btchnrm1 = nn.BatchNorm2d(4)\n",
    "        self.btchnrm2 = nn.BatchNorm2d(6)\n",
    "        self.mxpl = nn.MaxPool2d(2)\n",
    "        self.fc1 = nn.Linear(2688, 1000)\n",
    "        self.fc2 = nn.Linear(1000,84)\n",
    "        self.fc3 = nn.Linear(84,2)\n",
    "        self.vgg16 = vgg16()\n",
    "\n",
    "\n",
    "    def forward(self, x):\n",
    "        x = f.relu(self.conv1(x))\n",
    "        x = f.relu(self.conv2(x))\n",
    "        x = f.relu(self.conv3(x))\n",
    "        x = f.relu(self.conv4(x))\n",
    "        x = self.mxpl(x)\n",
    "        x = x.view(-1, self.num_flat_features(x))\n",
    "        x = f.relu(self.fc1(x))\n",
    "        x = f.relu(self.fc2(x))\n",
    "        x = self.fc3(x)\n",
    "        return x\n",
    "    def num_flat_features(self, x):\n",
    "        size = x.size()[1:]\n",
    "        num_features = 1\n",
    "        for s in size:\n",
    "            num_features *= s\n",
    "        return num_features\n",
    "net = Net()\n",
    "\n",
    "optimizer = optim.SGD(net.parameters(), lr=1e-2, weight_decay=1e-4)\n",
    "criterion = nn.CrossEntropyLoss()\n",
    "path = './Dataset_train/negative/'\n",
    "lis1_train = os.listdir(path)\n",
    "path2 = './Dataset_train/positive/'\n",
    "lis_train = lis1_train + os.listdir(path2)\n",
    "\n",
    "\n",
    "path = './Dataset_eval/negative/'\n",
    "lis1_eval = os.listdir(path)\n",
    "path2 = './Dataset_eval/positive/'\n",
    "lis_eval = lis1_eval + os.listdir(path2)\n",
    "\n",
    "\n",
    "\n",
    "label_eval = {}\n",
    "for l in lis_eval:\n",
    "    if l in lis1_eval:\n",
    "        label_eval[l] = 0\n",
    "    else:\n",
    "        label_eval[l] = 1\n",
    "\n",
    "\n",
    "label_train = {}\n",
    "for l in lis_train:\n",
    "    if l in lis1_train:\n",
    "        label_train[l] = 0\n",
    "    else:\n",
    "        label_train[l] = 1\n",
    "\n",
    "D_eval = MyDataset('./Dataset_eval/positive/','./Dataset_eval/negative/',lis_eval, label_eval)\n",
    "D_train = MyDataset('./Dataset_train/positive/','./Dataset_train/negative/',lis_train, label_train)\n",
    "\n",
    "D_train_loader = data.DataLoader(D_train, batch_size=215, shuffle=True)\n",
    "D_eval_loader = data.DataLoader(D_eval, batch_size=200, shuffle=True)\n"
   ]
  },
  {
   "cell_type": "markdown",
   "metadata": {},
   "source": [
    "<div style=\"direction:rtl\">\n",
    "در این گام داده ها را توسط تابع تعریف شده فراخوانی می کنیم.\n",
    "</div>"
   ]
  },
  {
   "cell_type": "code",
   "execution_count": 4,
   "metadata": {},
   "outputs": [
    {
     "name": "stdout",
     "output_type": "stream",
     "text": [
      "torch.Size([215, 3, 32, 128])\n",
      "torch.Size([196, 3, 32, 128])\n"
     ]
    }
   ],
   "source": [
    "for j,d in enumerate(D_train_loader):\n",
    "        optimizer.zero_grad()\n",
    "        input1, target = d[0], d[1]\n",
    "        print(input1.shape)\n",
    "for j,d in enumerate(D_eval_loader):\n",
    "        optimizer.zero_grad()\n",
    "        input2, target2 = d[0], d[1]\n",
    "        print(input2.shape)"
   ]
  },
  {
   "cell_type": "markdown",
   "metadata": {},
   "source": [
    "<div style=\"direction:rtl\">\n",
    "طبقه بندهایی مانند ماشین بردار پشتیبان داده ها را به صورت یک بعدی در یافت می کنند در این گام ما داده های ۳ بعدی را به داده های یک بعدی تبدیل می کنیم\n",
    "</div>"
   ]
  },
  {
   "cell_type": "code",
   "execution_count": 5,
   "metadata": {},
   "outputs": [],
   "source": [
    "nsamples,nx,ny,cn=input1.shape\n",
    "nsamples1,nx1,ny1,cn1=input2.shape\n",
    "d2_train_dataset = input1.reshape((nsamples,nx*ny*cn))\n",
    "d2_test_dataset = input2.reshape((nsamples1,nx1*ny1*cn1))"
   ]
  },
  {
   "cell_type": "markdown",
   "metadata": {},
   "source": [
    "<div style=\"direction:rtl\">\n",
    "تابع زیر برای رسم ماتریس در هم ریختگی می باشد\n",
    "</div>"
   ]
  },
  {
   "cell_type": "code",
   "execution_count": 6,
   "metadata": {},
   "outputs": [],
   "source": [
    "def plot_confusion_matrix(y_true, y_pred, xticks = ['True', 'False']):\n",
    "    cm = confusion_matrix(y_true, y_pred)\n",
    "    df_cm = pd.DataFrame(cm, range(2), range(2))\n",
    "    sns.set(font_scale=1.4) \n",
    "    ax = sns.heatmap(df_cm, annot=True, fmt='g',annot_kws={\"size\": 16}, \n",
    "                  xticklabels = xticks, yticklabels=xticks).set_title('Plot of the confusion matrix')\n",
    "    plt.xlabel('Predicted Labels')\n",
    "    plt.ylabel('True Labels')\n",
    "    plt.show()"
   ]
  },
  {
   "cell_type": "markdown",
   "metadata": {},
   "source": [
    "<div style=\"direction:rtl\">\n",
    "در این بخش ابتدا یکسری الگوریتم پایه ای یادگیری ماشین سنتی از جمله ماشین بردار پشتیبان و جنگل تصادفی را بر روی داده هایی که تغییر شیپ داده ایم اعمال می کنیم(داده هایی که ۳ بعدی بودند و آن ها را ۱ بعد کردیم)\n",
    "</div>"
   ]
  },
  {
   "cell_type": "markdown",
   "metadata": {},
   "source": [
    "<div style=\"direction:rtl\">\n",
    "نتایج بدست آمده برای طبق بند ماشین بردار پشتیبان\n",
    "</div>"
   ]
  },
  {
   "cell_type": "code",
   "execution_count": 7,
   "metadata": {},
   "outputs": [
    {
     "name": "stdout",
     "output_type": "stream",
     "text": [
      "Accuracy train: 0.9534883720930233\n",
      "Accuracy test: 0.8571428571428571\n",
      "**************************************************\n",
      "             precision    recall  f1-score   support\n",
      "\n",
      "          0     0.9853    0.8816    0.9306        76\n",
      "          1     0.9388    0.9928    0.9650       139\n",
      "\n",
      "avg / total     0.9552    0.9535    0.9528       215\n",
      "\n"
     ]
    }
   ],
   "source": [
    "from sklearn.svm import SVC  \n",
    "svclassifier_rbf = SVC(kernel='rbf')  \n",
    "clf = svclassifier_rbf.fit(d2_train_dataset, target)  \n",
    "from sklearn.metrics import accuracy_score\n",
    "print(\"Accuracy train:\",accuracy_score(target,clf.predict(d2_train_dataset)))\n",
    "print(\"Accuracy test:\",accuracy_score(target2,clf.predict(d2_test_dataset)))\n",
    "from sklearn.metrics import make_scorer, accuracy_score, precision_score, recall_score, f1_score\n",
    "from sklearn.metrics import roc_curve, auc\n",
    "from sklearn.ensemble import RandomForestClassifier\n",
    "from sklearn.model_selection import ShuffleSplit\n",
    "from sklearn.model_selection import cross_val_score\n",
    "from sklearn.metrics import classification_report\n",
    "from sklearn.model_selection import cross_val_predict\n",
    "from sklearn.metrics import confusion_matrix\n",
    "from sklearn.metrics import classification_report\n",
    "\n",
    "sk_report = classification_report(\n",
    "    digits=4,\n",
    "    y_true=target, \n",
    "    y_pred=clf.predict(d2_train_dataset))\n",
    "print(\"*\"*50)\n",
    "print(sk_report)"
   ]
  },
  {
   "cell_type": "code",
   "execution_count": 10,
   "metadata": {},
   "outputs": [
    {
     "data": {
      "image/png": "[encoded data removed]",
      "text/plain": [
       "<Figure size 432x288 with 2 Axes>"
      ]
     },
     "metadata": {},
     "output_type": "display_data"
    }
   ],
   "source": [
    "plot_confusion_matrix(target,clf.predict(d2_train_dataset))"
   ]
  },
  {
   "cell_type": "markdown",
   "metadata": {},
   "source": [
    "<div style=\"direction:rtl\">\n",
    "نتایج بدست آمده برای طبقه بند جنگل تصادفی\n",
    "</div>"
   ]
  },
  {
   "cell_type": "code",
   "execution_count": 9,
   "metadata": {},
   "outputs": [
    {
     "name": "stdout",
     "output_type": "stream",
     "text": [
      "Accuracy: 0.9953488372093023\n",
      "Accuracy test: 0.8622448979591837\n",
      "**************************************************\n",
      "             precision    recall  f1-score   support\n",
      "\n",
      "          0     0.9870    1.0000    0.9935        76\n",
      "          1     1.0000    0.9928    0.9964       139\n",
      "\n",
      "avg / total     0.9954    0.9953    0.9954       215\n",
      "\n"
     ]
    }
   ],
   "source": [
    "classifier = RandomForestClassifier(n_estimators = 10, criterion = 'entropy')\n",
    "clf = classifier.fit(d2_train_dataset, target)  \n",
    "print(\"Accuracy:\",accuracy_score(target,clf.predict(d2_train_dataset)))\n",
    "print(\"Accuracy test:\",accuracy_score(target2,clf.predict(d2_test_dataset)))\n",
    "sk_report = classification_report(\n",
    "    digits=4,\n",
    "    y_true=target, \n",
    "    y_pred=clf.predict(d2_train_dataset))\n",
    "print(\"*\"*50)\n",
    "print(sk_report)"
   ]
  },
  {
   "cell_type": "code",
   "execution_count": 10,
   "metadata": {},
   "outputs": [
    {
     "data": {
      "image/png": "[encoded data removed]",
      "text/plain": [
       "<Figure size 432x288 with 2 Axes>"
      ]
     },
     "metadata": {},
     "output_type": "display_data"
    }
   ],
   "source": [
    "plot_confusion_matrix(target,clf.predict(d2_train_dataset))"
   ]
  },
  {
   "cell_type": "code",
   "execution_count": 8,
   "metadata": {},
   "outputs": [
    {
     "name": "stdout",
     "output_type": "stream",
     "text": [
      "Train Data shape: torch.Size([215, 3, 32, 128])\n",
      "Train Labels shape: torch.Size([215])\n"
     ]
    }
   ],
   "source": [
    "print('Train Data shape:', input1.shape)\n",
    "print('Train Labels shape:', target.shape)"
   ]
  },
  {
   "cell_type": "code",
   "execution_count": 8,
   "metadata": {},
   "outputs": [
    {
     "name": "stdout",
     "output_type": "stream",
     "text": [
      "Test Data shape: torch.Size([215, 12288])\n",
      "Test Labels shape: torch.Size([196, 12288])\n"
     ]
    }
   ],
   "source": [
    "print('Test Data shape:', d2_train_dataset.shape)\n",
    "print('Test Labels shape:', d2_test_dataset.shape)"
   ]
  },
  {
   "cell_type": "markdown",
   "metadata": {},
   "source": [
    "<div style=\"direction:rtl\">\n",
    "نمایش یکی از تصاویر سه بعدی به صورت دوبعدی  همراه با کانال رنگی\n",
    "</div>"
   ]
  },
  {
   "cell_type": "code",
   "execution_count": 9,
   "metadata": {},
   "outputs": [
    {
     "data": {
      "text/plain": [
       "<matplotlib.image.AxesImage at 0x7f3865038438>"
      ]
     },
     "execution_count": 9,
     "metadata": {},
     "output_type": "execute_result"
    },
    {
     "data": {
      "image/png": "[encoded data removed]",
      "text/plain": [
       "<Figure size 432x288 with 1 Axes>"
      ]
     },
     "metadata": {},
     "output_type": "display_data"
    }
   ],
   "source": [
    "def showimage(im):\n",
    "    if im.ndim == 3:\n",
    "        im = im[:, :, ::-1]\n",
    "    plt.set_cmap('jet')\n",
    "    plt.imshow(im,vmin=0.2, vmax=0.9)\n",
    "plt.imshow(input1[1][2])"
   ]
  },
  {
   "cell_type": "markdown",
   "metadata": {},
   "source": [
    "<div style=\"direction:rtl\">\n",
    "در این بخش برخی از توابع را برای استخراج ویژگی های استاتیک از تصاویر تعریف می کنیم. این ویژگی ها ویژگی هایی هستند که به ازای هر تصویر متفاوت می باشند. این ویژکی ها شامل اطلاعاتی نظیر کواریانس داده ها- بردارهای ویژه و مقدار های ویژه-میانگین داده ها- فاصله داده ها از همدیگر-مرکز گرانش-اندازه مرکز-فضایی مماس- فرم های عادی- \n",
    "</div>"
   ]
  },
  {
   "cell_type": "code",
   "execution_count": 17,
   "metadata": {},
   "outputs": [
    {
     "name": "stdout",
     "output_type": "stream",
     "text": [
      "\n",
      " PCA Features:\n",
      " [[-0.00552436]\n",
      " [-0.00537884]\n",
      " [-0.00517591]\n",
      " ...\n",
      " [ 0.00474245]\n",
      " [ 0.00582087]\n",
      " [ 0.01175802]]\n",
      "\n",
      "COV features:\n",
      " [[0. 0. 0. ... 0. 0. 0.]\n",
      " [0. 0. 0. ... 0. 0. 0.]\n",
      " [0. 0. 0. ... 0. 0. 0.]\n",
      " ...\n",
      " [0. 0. 0. ... 0. 0. 0.]\n",
      " [0. 0. 0. ... 0. 0. 0.]\n",
      " [0. 0. 0. ... 0. 0. 0.]]\n",
      "\n",
      "COV Shape features:\n",
      " [[ 3.45570130e-06  3.46036113e-06  5.05522542e-06 ...  4.33575999e-07\n",
      "   8.59572194e-07  2.89774248e-07]\n",
      " [ 3.46036113e-06  3.57433425e-06  5.23263252e-06 ...  1.52665714e-07\n",
      "   8.53116223e-07  2.72328840e-07]\n",
      " [ 5.05522542e-06  5.23263252e-06  8.21645846e-06 ... -8.33476558e-07\n",
      "  -5.40652104e-07 -1.98504745e-06]\n",
      " ...\n",
      " [ 4.33575999e-07  1.52665714e-07 -8.33476558e-07 ...  3.47874240e-05\n",
      "   2.73732296e-05  1.13642668e-05]\n",
      " [ 8.59572194e-07  8.53116223e-07 -5.40652104e-07 ...  2.73732296e-05\n",
      "   2.78244898e-05  1.78734440e-05]\n",
      " [ 2.89774248e-07  2.72328840e-07 -1.98504745e-06 ...  1.13642668e-05\n",
      "   1.78734440e-05  2.31115497e-05]]\n",
      "\n",
      "Eig Value:\n",
      " [[0. 0. 0. ... 0. 0. 0.]\n",
      " [0. 0. 0. ... 0. 0. 0.]\n",
      " [0. 0. 0. ... 0. 0. 0.]\n",
      " ...\n",
      " [0. 0. 0. ... 0. 0. 0.]\n",
      " [0. 0. 0. ... 0. 0. 0.]\n",
      " [0. 0. 0. ... 0. 0. 0.]]\n",
      "\n",
      "Eig Vect:\n",
      " [[0. 0. 0. ... 0. 0. 0.]\n",
      " [0. 0. 0. ... 0. 0. 0.]\n",
      " [0. 0. 0. ... 0. 0. 0.]\n",
      " ...\n",
      " [0. 0. 0. ... 0. 0. 0.]\n",
      " [0. 0. 0. ... 0. 0. 0.]\n",
      " [0. 0. 0. ... 0. 0. 0.]]\n",
      "\n",
      "sigma:\n",
      " [[2.62884128e-155]\n",
      " [2.62884136e-155]\n",
      " [2.62884136e-155]\n",
      " ...\n",
      " [4.32938712e-018]\n",
      " [4.32938712e-018]\n",
      " [4.32938712e-018]]\n"
     ]
    },
    {
     "name": "stderr",
     "output_type": "stream",
     "text": [
      "/home/raminm/anaconda3/envs/tensorflow/lib/python3.6/site-packages/ipykernel_launcher.py:92: RuntimeWarning: invalid value encountered in sqrt\n"
     ]
    }
   ],
   "source": [
    "import numpy as np\n",
    "import matplotlib.pyplot as plt\n",
    "import json\n",
    "import random\n",
    "decoder = json.decoder\n",
    "def rotationMatrix(fi):\n",
    "    return np.array([[np.cos(fi), -np.sin(fi)],[np.sin(fi), np.cos(fi)]])\n",
    "def procrustesDistance(X1, X2):\n",
    "    return np.sqrt(np.sum(np.square(X1 - X2)))\n",
    "def centerOfGravity(X):\n",
    "    M = X.shape[0]\n",
    "    return np.sum(X, axis=0, keepdims = True)/M\n",
    "def sizeFrobenious(X, centroidFun=centerOfGravity):\n",
    "    center = centroidFun(X)\n",
    "    return np.sqrt(np.sum(np.square(X-center)))\n",
    "def centroidSize(X, centroidFun=centerOfGravity):\n",
    "    center = centroidFun(X)\n",
    "    return np.sum(np.sqrt(np.sum(np.square(X - center), axis = 1)), axis = 0)\n",
    "def tangentSpaceProjection(shapes, mean):\n",
    "    meanSize = np.sum(mean*mean)\n",
    "    projections = []\n",
    "    for shape in shapes:\n",
    "        alpha = meanSize/np.sum(mean*shape)\n",
    "        projection = alpha * shape\n",
    "        projections.append(projection)\n",
    "    return projections\n",
    "def toPCAform(shape):\n",
    "    return shape.T.reshape(-1,1)\n",
    "def toNormalform(shape):\n",
    "    return shape.reshape(2,-1).T\n",
    "import cv2\n",
    "import os\n",
    "def load_images_from_folder(folder):\n",
    "    images = []\n",
    "    for filename in os.listdir(folder):\n",
    "        img = cv2.imread(os.path.join(folder,filename))\n",
    "        if img is not None:\n",
    "            images.append(img)\n",
    "    return images\n",
    "if __name__ == '__main__':\n",
    "  # Choose size metric and centroid function\n",
    "  sizeFun = sizeFrobenious\n",
    "  centroidFun = centerOfGravity\n",
    "  shapes = []\n",
    "  tmpshapes = []\n",
    "  shapes=load_images_from_folder('/home/raminm/Desktop/POOL/hedaiati/CNN-Classifier-model-for-lumbar-disc-master/Dataset_train/negative/')\n",
    "  shapes=np.array(shapes,dtype=np.float32)\n",
    "  #np.save('test3.npy', a)\n",
    "  np.save('Feature/shapes.npy', shapes)\n",
    "  random.shuffle(shapes)\n",
    "  np.save('Feature/Randomshapes.npy', shapes)\n",
    "  mean = shapes[0]\n",
    "  np.save('Feature/mean.npy', mean)\n",
    "  mean -= centroidFun(mean)\n",
    "  np.save('Feature/centroidFun.npy', mean)\n",
    "  mean /= sizeFun(mean)\n",
    "  np.save('Feature/sizeFun.npy', mean)\n",
    "  for shape in shapes:\n",
    "    shape -= centroidFun(shape)\n",
    "    shape /= sizeFun(shape)\n",
    "    mean = sum(shapes)/len(shapes)\n",
    "    mean /= sizeFun(mean)  \n",
    "  mean2 = toPCAform(mean)\n",
    "  np.save('Feature/toPCAform.npy', mean2)\n",
    "  print(\"\\n PCA Features:\\n\",mean2)\n",
    "\n",
    "\n",
    "  shapes2 = []\n",
    "  for shape in shapes:\n",
    "    shapes2.append(toPCAform(shape))\n",
    "  shapes2 = tangentSpaceProjection(shapes2, mean2)\n",
    "  np.save('Feature/tangentSpace.npy', shapes2)\n",
    "  N = mean2.shape[0]\n",
    "  covarianceX = np.zeros(shape = (N, N))\n",
    "  np.save('Feature/covarianceX.npy', covarianceX)\n",
    "  print(\"\\nCOV features:\\n\",covarianceX)\n",
    "  # Calculate shape covariance\n",
    "  for shape2 in shapes2:\n",
    "    diff = shape2 - mean2\n",
    "    covarianceX += diff.dot(diff.T)\n",
    "  covarianceX /= N\n",
    "  print(\"\\nCOV Shape features:\\n\",covarianceX)\n",
    "  # Calculate eigenbasis and eigenvalue\n",
    "  U, covariance, Vt = np.linalg.svd(covarianceX)\n",
    "  np.save('Feature/EginValue.npy', U)\n",
    "  np.save('Feature/covariance.npy', covariance)\n",
    "  np.save('Feature/EginVector.npy', Vt)\n",
    "\n",
    "  print(\"\\nEig Value:\\n\",U)\n",
    "  print(\"\\nEig Vect:\\n\",Vt)\n",
    "  # Standard deviations for each mode\n",
    "  sigma = np.sqrt(covariance).reshape(-1,1)\n",
    "  np.save('Feature/sigma.npy', sigma)\n",
    "  print('\\nsigma:\\n',sigma)\n",
    "  # Display a few shapes of +/- sigma for first mode\n",
    "  b = sigma*0"
   ]
  },
  {
   "cell_type": "code",
   "execution_count": 8,
   "metadata": {},
   "outputs": [],
   "source": [
    "def open_image(path):\n",
    "    newImage = Image.open(path)\n",
    "    return newImage\n",
    "\n",
    "# Save Image\n",
    "def save_image(image, path):\n",
    "    image.save(path, 'png')\n",
    "\n",
    "\n",
    "# Create a new image with the given size\n",
    "def create_image(i, j):\n",
    "    image = Image.new(\"RGB\", (i, j), \"white\")\n",
    "    return image"
   ]
  },
  {
   "cell_type": "code",
   "execution_count": 9,
   "metadata": {},
   "outputs": [],
   "source": [
    "def get_pixel(image, i, j):\n",
    "    # Inside image bounds?\n",
    "    width, height = image.size\n",
    "    if i > width or j > height:\n",
    "        return None\n",
    "\n",
    "    # Get Pixel\n",
    "    pixel = image.getpixel((i, j))\n",
    "    return pixel"
   ]
  },
  {
   "cell_type": "code",
   "execution_count": 10,
   "metadata": {},
   "outputs": [],
   "source": [
    "def convert_grayscale(image):\n",
    "    # Get size\n",
    "    width, height = image.size\n",
    "\n",
    "    # Create new Image and a Pixel Map\n",
    "    new = create_image(width, height)\n",
    "    pixels = new.load()\n",
    "\n",
    "    # Transform to grayscale\n",
    "    for i in range(width):\n",
    "        for j in range(height):\n",
    "            # Get Pixel\n",
    "            pixel = get_pixel(image, i, j)\n",
    "\n",
    "              # Get R, G, B values (This are int from 0 to 255)\n",
    "            red =   pixel[0]\n",
    "            green = pixel[1]\n",
    "            blue =  pixel[2]\n",
    "\n",
    "              # Transform to grayscale\n",
    "            gray = (red * 0.299) + (green * 0.587) + (blue * 0.114)\n",
    "\n",
    "              # Set Pixel in new image\n",
    "            pixels[i, j] = (int(gray), int(gray), int(gray))\n",
    "\n",
    "  # Return new image\n",
    "    return new"
   ]
  },
  {
   "cell_type": "code",
   "execution_count": 11,
   "metadata": {},
   "outputs": [],
   "source": [
    "def convert_halftoning(image):\n",
    "    # Get size\n",
    "    width, height = image.size\n",
    "\n",
    "    # Create new Image and a Pixel Map\n",
    "    new = create_image(width, height)\n",
    "    pixels = new.load()\n",
    "\n",
    "    # Transform to half tones\n",
    "    for i in range(0, width, 2):\n",
    "        for j in range(0, height, 2):\n",
    "            # Get Pixels\n",
    "            p1 = get_pixel(image, i, j)\n",
    "            p2 = get_pixel(image, i, j + 1)\n",
    "            p3 = get_pixel(image, i + 1, j)\n",
    "            p4 = get_pixel(image, i + 1, j + 1)\n",
    "\n",
    "        # Transform to grayscale\n",
    "        gray1 = (p1[0] * 0.299) + (p1[1] * 0.587) + (p1[2] * 0.114)\n",
    "        gray2 = (p2[0] * 0.299) + (p2[1] * 0.587) + (p2[2] * 0.114)\n",
    "        gray3 = (p3[0] * 0.299) + (p3[1] * 0.587) + (p3[2] * 0.114)\n",
    "        gray4 = (p4[0] * 0.299) + (p4[1] * 0.587) + (p4[2] * 0.114)\n",
    "\n",
    "        # Saturation Percentage\n",
    "        sat = (gray1 + gray2 + gray3 + gray4) / 4\n",
    "\n",
    "        # Draw white/black depending on saturation\n",
    "        if sat > 223:\n",
    "            pixels[i, j]         = (255, 255, 255) # White\n",
    "            pixels[i, j + 1]     = (255, 255, 255) # White\n",
    "            pixels[i + 1, j]     = (255, 255, 255) # White\n",
    "            pixels[i + 1, j + 1] = (255, 255, 255) # White\n",
    "        elif sat > 159:\n",
    "            pixels[i, j]         = (255, 255, 255) # White\n",
    "            pixels[i, j + 1]     = (0, 0, 0)       # Black\n",
    "            pixels[i + 1, j]     = (255, 255, 255) # White\n",
    "            pixels[i + 1, j + 1] = (255, 255, 255) # White\n",
    "        elif sat > 95:\n",
    "            pixels[i, j]         = (255, 255, 255) # White\n",
    "            pixels[i, j + 1]     = (0, 0, 0)       # Black\n",
    "            pixels[i + 1, j]     = (0, 0, 0)       # Black\n",
    "            pixels[i + 1, j + 1] = (255, 255, 255) # White\n",
    "        elif sat > 32:\n",
    "            pixels[i, j]         = (0, 0, 0)       # Black\n",
    "            pixels[i, j + 1]     = (255, 255, 255) # White\n",
    "            pixels[i + 1, j]     = (0, 0, 0)       # Black\n",
    "            pixels[i + 1, j + 1] = (0, 0, 0)       # Black\n",
    "        else:\n",
    "            pixels[i, j]         = (0, 0, 0)       # Black\n",
    "            pixels[i, j + 1]     = (0, 0, 0)       # Black\n",
    "            pixels[i + 1, j]     = (0, 0, 0)       # Black\n",
    "            pixels[i + 1, j + 1] = (0, 0, 0)       # Black\n",
    "\n",
    "  # Return new image\n",
    "    return new"
   ]
  },
  {
   "cell_type": "code",
   "execution_count": 13,
   "metadata": {},
   "outputs": [],
   "source": [
    "# Return color value depending on quadrant and saturation\n",
    "def get_saturation(value, quadrant):\n",
    "    if value > 223:\n",
    "        return 255\n",
    "    elif value > 159:\n",
    "        if quadrant != 1:\n",
    "            return 255\n",
    "\n",
    "        return 0\n",
    "    elif value > 95:\n",
    "        if quadrant == 0 or quadrant == 3:\n",
    "            return 255\n",
    "\n",
    "        return 0\n",
    "    elif value > 32:\n",
    "        if quadrant == 1:\n",
    "            return 255\n",
    "\n",
    "        return 0\n",
    "    else:\n",
    "        return 0\n"
   ]
  },
  {
   "cell_type": "code",
   "execution_count": 14,
   "metadata": {},
   "outputs": [],
   "source": [
    "# Create a dithered version of the image\n",
    "def convert_dithering(image):\n",
    "    # Get size\n",
    "    width, height = image.size\n",
    "\n",
    "    # Create new Image and a Pixel Map\n",
    "    new = create_image(width, height)\n",
    "    pixels = new.load()\n",
    "\n",
    "    # Transform to half tones\n",
    "    for i in range(0, width, 2):\n",
    "        for j in range(0, height, 2):\n",
    "            # Get Pixels\n",
    "            p1 = get_pixel(image, i, j)\n",
    "            p2 = get_pixel(image, i, j + 1)\n",
    "            p3 = get_pixel(image, i + 1, j)\n",
    "            p4 = get_pixel(image, i + 1, j + 1)\n",
    "\n",
    "            # Color Saturation by RGB channel\n",
    "            red   = (p1[0] + p2[0] + p3[0] + p4[0]) / 4\n",
    "            green = (p1[1] + p2[1] + p3[1] + p4[1]) / 4\n",
    "            blue  = (p1[2] + p2[2] + p3[2] + p4[2]) / 4\n",
    "\n",
    "            # Results by channel\n",
    "            r = [0, 0, 0, 0]\n",
    "            g = [0, 0, 0, 0]\n",
    "            b = [0, 0, 0, 0]\n",
    "\n",
    "            # Get Quadrant Color\n",
    "            for x in range(0, 4):\n",
    "                r[x] = get_saturation(red, x)\n",
    "                g[x] = get_saturation(green, x)\n",
    "                b[x] = get_saturation(blue, x)\n",
    "\n",
    "            # Set Dithered Colors\n",
    "            pixels[i, j]         = (r[0], g[0], b[0])\n",
    "            pixels[i, j + 1]     = (r[1], g[1], b[1])\n",
    "            pixels[i + 1, j]     = (r[2], g[2], b[2])\n",
    "            pixels[i + 1, j + 1] = (r[3], g[3], b[3])\n",
    "\n",
    "  # Return new image\n",
    "    return new\n"
   ]
  },
  {
   "cell_type": "code",
   "execution_count": 15,
   "metadata": {},
   "outputs": [],
   "source": [
    "# Create a Primary Colors version of the image\n",
    "def convert_primary(image):\n",
    "    # Get size\n",
    "    width, height = image.size\n",
    "\n",
    "    # Create new Image and a Pixel Map\n",
    "    new = create_image(width, height)\n",
    "    pixels = new.load()\n",
    "\n",
    "    # Transform to primary\n",
    "    for i in range(width):\n",
    "        for j in range(height):\n",
    "            # Get Pixel\n",
    "            pixel = get_pixel(image, i, j)\n",
    "\n",
    "            # Get R, G, B values (This are int from 0 to 255)\n",
    "            red =   pixel[0]\n",
    "            green = pixel[1]\n",
    "            blue =  pixel[2]\n",
    "\n",
    "         # Transform to primary\n",
    "        if red > 127:\n",
    "            red = 255\n",
    "        else:\n",
    "            red = 0\n",
    "        if green > 127:\n",
    "            green = 255\n",
    "        else:\n",
    "            green = 0\n",
    "        if blue > 127:\n",
    "            blue = 255\n",
    "        else:\n",
    "            blue = 0\n",
    "\n",
    "        # Set Pixel in new image\n",
    "        pixels[i, j] = (int(red), int(green), int(blue))\n",
    "\n",
    "  # Return new image\n",
    "    return new"
   ]
  },
  {
   "cell_type": "code",
   "execution_count": 28,
   "metadata": {},
   "outputs": [
    {
     "name": "stdout",
     "output_type": "stream",
     "text": [
      "Color: (25, 25, 25)\n"
     ]
    },
    {
     "data": {
      "image/png": "[encoded data removed]",
      "text/plain": [
       "<Figure size 432x288 with 1 Axes>"
      ]
     },
     "metadata": {},
     "output_type": "display_data"
    },
    {
     "name": "stdout",
     "output_type": "stream",
     "text": [
      "Color: (35, 35, 35)\n"
     ]
    },
    {
     "data": {
      "image/png": "[encoded data removed]",
      "text/plain": [
       "<Figure size 432x288 with 1 Axes>"
      ]
     },
     "metadata": {},
     "output_type": "display_data"
    },
    {
     "data": {
      "image/png": "[encoded data removed]",
      "text/plain": [
       "<Figure size 432x288 with 1 Axes>"
      ]
     },
     "metadata": {},
     "output_type": "display_data"
    },
    {
     "name": "stdout",
     "output_type": "stream",
     "text": [
      "Color: (16, 16, 16)\n"
     ]
    },
    {
     "data": {
      "image/png": "[encoded data removed]",
      "text/plain": [
       "<Figure size 432x288 with 1 Axes>"
      ]
     },
     "metadata": {},
     "output_type": "display_data"
    },
    {
     "name": "stdout",
     "output_type": "stream",
     "text": [
      "Color: (19, 19, 19)\n"
     ]
    },
    {
     "data": {
      "image/png": "[encoded data removed]",
      "text/plain": [
       "<Figure size 432x288 with 1 Axes>"
      ]
     },
     "metadata": {},
     "output_type": "display_data"
    },
    {
     "data": {
      "image/png": "[encoded data removed]",
      "text/plain": [
       "<Figure size 432x288 with 1 Axes>"
      ]
     },
     "metadata": {},
     "output_type": "display_data"
    },
    {
     "data": {
      "image/png": "[encoded data removed]",
      "text/plain": [
       "<Figure size 432x288 with 1 Axes>"
      ]
     },
     "metadata": {},
     "output_type": "display_data"
    }
   ],
   "source": [
    "if __name__ == \"__main__\":\n",
    "    original = open_image('/home/raminm/Desktop/POOL/hedaiati/CNN-Classifier-model-for-lumbar-disc-master/Dataset_train/negative/merge_50_217_180_249.png')\n",
    "    print('Color: ' + str(get_pixel(original, 0, 2)))\n",
    "    new = convert_grayscale(original)\n",
    "    plt.imshow(new)\n",
    "    plt.show()\n",
    "    new = convert_primary(original)\n",
    "    #save_image(new, 'Prinny_primary.png')\n",
    "    plt.show()\n",
    "    print('Color: ' + str(get_pixel(original,2, 2)))\n",
    "    new = convert_grayscale(original)\n",
    "    plt.imshow(new)\n",
    "    plt.show()\n",
    "    new = convert_dithering(original)\n",
    "    plt.imshow(new)\n",
    "    plt.show()\n",
    "    print('Color: ' + str(get_pixel(original, 5, 0)))\n",
    "    new = convert_grayscale(original)\n",
    "    plt.imshow(new)\n",
    "    plt.show()\n",
    "    print('Color: ' + str(get_pixel(original, 5, 2)))\n",
    "    new = convert_grayscale(original)\n",
    "    plt.imshow(new)\n",
    "    plt.show()\n",
    "    new = convert_halftoning(original)\n",
    "    plt.imshow(new) \n",
    "    plt.show()\n",
    "    new = convert_dithering(original)\n",
    "    plt.imshow(new)\n",
    "    plt.show()\n",
    "    new = convert_primary(original)\n",
    "    save_image(new, 'Prinny_primary.png')\n",
    "    plt.show()"
   ]
  },
  {
   "cell_type": "markdown",
   "metadata": {},
   "source": [
    "<div style=\"direction:rtl\">\n",
    "در این بخش برخی از توابع را برای استخراج ویژگی های استاتیک از تصاویر تعریف می کنیم. این ویژگی ها ویژگی هایی هستند که به ازای هر تصویر متفاوت می باشند. این ویژکی ها شامل اطلاعاتی نظیر کواریانس داده ها- بردارهای ویژه و مقدار های ویژه-میانگین داده ها- فاصله داده ها از همدیگر-مرکز گرانش-اندازه مرکز-فضایی مماس- فرم های عادی- \n",
    "</div> "
   ]
  },
  {
   "cell_type": "code",
   "execution_count": 14,
   "metadata": {
    "scrolled": true
   },
   "outputs": [
    {
     "name": "stderr",
     "output_type": "stream",
     "text": [
      "  0%|          | 0/20 [00:00<?, ?it/s]\n",
      "0it [00:00, ?it/s]\u001b[A"
     ]
    },
    {
     "name": "stdout",
     "output_type": "stream",
     "text": [
      "train 0.6945852637290955\n"
     ]
    },
    {
     "name": "stderr",
     "output_type": "stream",
     "text": [
      "\n",
      "1it [02:06, 126.84s/it]\u001b[A\n",
      "  5%|▌         | 1/20 [09:00<2:51:04, 540.24s/it]"
     ]
    },
    {
     "name": "stdout",
     "output_type": "stream",
     "text": [
      "eval 0.6946251392364502\n"
     ]
    },
    {
     "name": "stderr",
     "output_type": "stream",
     "text": [
      "\n",
      "0it [00:00, ?it/s]\u001b[A"
     ]
    },
    {
     "name": "stdout",
     "output_type": "stream",
     "text": [
      "train 0.6938332915306091\n"
     ]
    },
    {
     "name": "stderr",
     "output_type": "stream",
     "text": [
      "\n",
      "1it [02:06, 126.09s/it]\u001b[A\n",
      " 10%|█         | 2/20 [17:57<2:41:38, 538.79s/it]"
     ]
    },
    {
     "name": "stdout",
     "output_type": "stream",
     "text": [
      "eval 0.6926718950271606\n"
     ]
    },
    {
     "name": "stderr",
     "output_type": "stream",
     "text": [
      "\n",
      "0it [00:00, ?it/s]\u001b[A"
     ]
    },
    {
     "name": "stdout",
     "output_type": "stream",
     "text": [
      "train 0.6930917501449585\n"
     ]
    },
    {
     "name": "stderr",
     "output_type": "stream",
     "text": [
      "\n",
      "1it [02:05, 125.21s/it]\u001b[A\n",
      " 15%|█▌        | 3/20 [26:50<2:32:07, 536.89s/it]"
     ]
    },
    {
     "name": "stdout",
     "output_type": "stream",
     "text": [
      "eval 0.690736711025238\n"
     ]
    },
    {
     "name": "stderr",
     "output_type": "stream",
     "text": [
      "\n",
      "0it [00:00, ?it/s]\u001b[A"
     ]
    },
    {
     "name": "stdout",
     "output_type": "stream",
     "text": [
      "train 0.6923604011535645\n"
     ]
    },
    {
     "name": "stderr",
     "output_type": "stream",
     "text": [
      "\n",
      "1it [02:05, 125.30s/it]\u001b[A\n",
      " 20%|██        | 4/20 [35:43<2:22:55, 535.95s/it]"
     ]
    },
    {
     "name": "stdout",
     "output_type": "stream",
     "text": [
      "eval 0.6888193488121033\n"
     ]
    },
    {
     "name": "stderr",
     "output_type": "stream",
     "text": [
      "\n",
      "0it [00:00, ?it/s]\u001b[A"
     ]
    },
    {
     "name": "stdout",
     "output_type": "stream",
     "text": [
      "train 0.6916393041610718\n"
     ]
    },
    {
     "name": "stderr",
     "output_type": "stream",
     "text": [
      "\n",
      "1it [02:04, 124.96s/it]\u001b[A\n",
      " 25%|██▌       | 5/20 [44:36<2:13:49, 535.31s/it]"
     ]
    },
    {
     "name": "stdout",
     "output_type": "stream",
     "text": [
      "eval 0.6869214773178101\n"
     ]
    },
    {
     "name": "stderr",
     "output_type": "stream",
     "text": [
      "\n",
      "0it [00:00, ?it/s]\u001b[A"
     ]
    },
    {
     "name": "stdout",
     "output_type": "stream",
     "text": [
      "train 0.6909292340278625\n"
     ]
    },
    {
     "name": "stderr",
     "output_type": "stream",
     "text": [
      "\n",
      "1it [02:04, 124.88s/it]\u001b[A\n",
      " 30%|███       | 6/20 [53:29<2:04:48, 534.88s/it]"
     ]
    },
    {
     "name": "stdout",
     "output_type": "stream",
     "text": [
      "eval 0.6850504279136658\n"
     ]
    },
    {
     "name": "stderr",
     "output_type": "stream",
     "text": [
      "\n",
      "0it [00:00, ?it/s]\u001b[A"
     ]
    },
    {
     "name": "stdout",
     "output_type": "stream",
     "text": [
      "train 0.6902302503585815\n"
     ]
    },
    {
     "name": "stderr",
     "output_type": "stream",
     "text": [
      "\n",
      "1it [02:04, 124.95s/it]\u001b[A\n",
      " 35%|███▌      | 7/20 [1:02:21<1:55:47, 534.45s/it]"
     ]
    },
    {
     "name": "stdout",
     "output_type": "stream",
     "text": [
      "eval 0.6832119822502136\n"
     ]
    },
    {
     "name": "stderr",
     "output_type": "stream",
     "text": [
      "\n",
      "0it [00:00, ?it/s]\u001b[A"
     ]
    },
    {
     "name": "stdout",
     "output_type": "stream",
     "text": [
      "train 0.6895503401756287\n"
     ]
    },
    {
     "name": "stderr",
     "output_type": "stream",
     "text": [
      "\n",
      "1it [02:04, 124.94s/it]\u001b[A\n",
      " 40%|████      | 8/20 [1:11:13<1:46:49, 534.15s/it]"
     ]
    },
    {
     "name": "stdout",
     "output_type": "stream",
     "text": [
      "eval 0.681430995464325\n"
     ]
    },
    {
     "name": "stderr",
     "output_type": "stream",
     "text": [
      "\n",
      "0it [00:00, ?it/s]\u001b[A"
     ]
    },
    {
     "name": "stdout",
     "output_type": "stream",
     "text": [
      "train 0.6888957023620605\n"
     ]
    },
    {
     "name": "stderr",
     "output_type": "stream",
     "text": [
      "\n",
      "1it [02:04, 124.96s/it]\u001b[A\n",
      " 45%|████▌     | 9/20 [1:20:05<1:37:53, 533.94s/it]"
     ]
    },
    {
     "name": "stdout",
     "output_type": "stream",
     "text": [
      "eval 0.6796858906745911\n"
     ]
    },
    {
     "name": "stderr",
     "output_type": "stream",
     "text": [
      "\n",
      "0it [00:00, ?it/s]\u001b[A"
     ]
    },
    {
     "name": "stdout",
     "output_type": "stream",
     "text": [
      "train 0.6882566809654236\n"
     ]
    },
    {
     "name": "stderr",
     "output_type": "stream",
     "text": [
      "\n",
      "1it [02:11, 131.16s/it]\u001b[A\n",
      " 50%|█████     | 10/20 [1:29:04<1:29:04, 534.45s/it]"
     ]
    },
    {
     "name": "stdout",
     "output_type": "stream",
     "text": [
      "eval 0.6779730916023254\n"
     ]
    },
    {
     "name": "stderr",
     "output_type": "stream",
     "text": [
      "\n",
      "0it [00:00, ?it/s]\u001b[A"
     ]
    },
    {
     "name": "stdout",
     "output_type": "stream",
     "text": [
      "train 0.6876326203346252\n"
     ]
    },
    {
     "name": "stderr",
     "output_type": "stream",
     "text": [
      "\n",
      "1it [02:06, 126.09s/it]\u001b[A\n",
      " 55%|█████▌    | 11/20 [1:37:57<1:20:09, 534.36s/it]"
     ]
    },
    {
     "name": "stdout",
     "output_type": "stream",
     "text": [
      "eval 0.6762871742248535\n"
     ]
    },
    {
     "name": "stderr",
     "output_type": "stream",
     "text": [
      "\n",
      "0it [00:00, ?it/s]\u001b[A"
     ]
    },
    {
     "name": "stdout",
     "output_type": "stream",
     "text": [
      "train 0.6870206594467163\n"
     ]
    },
    {
     "name": "stderr",
     "output_type": "stream",
     "text": [
      "\n",
      "1it [02:05, 125.22s/it]\u001b[A\n",
      " 60%|██████    | 12/20 [1:46:50<1:11:13, 534.23s/it]"
     ]
    },
    {
     "name": "stdout",
     "output_type": "stream",
     "text": [
      "eval 0.6746251583099365\n"
     ]
    },
    {
     "name": "stderr",
     "output_type": "stream",
     "text": [
      "\n",
      "0it [00:00, ?it/s]\u001b[A"
     ]
    },
    {
     "name": "stdout",
     "output_type": "stream",
     "text": [
      "train 0.6864214539527893\n"
     ]
    },
    {
     "name": "stderr",
     "output_type": "stream",
     "text": [
      "\n",
      "1it [02:05, 125.10s/it]\u001b[A\n",
      " 65%|██████▌   | 13/20 [1:55:43<1:02:18, 534.08s/it]"
     ]
    },
    {
     "name": "stdout",
     "output_type": "stream",
     "text": [
      "eval 0.6729845404624939\n"
     ]
    },
    {
     "name": "stderr",
     "output_type": "stream",
     "text": [
      "\n",
      "0it [00:00, ?it/s]\u001b[A"
     ]
    },
    {
     "name": "stdout",
     "output_type": "stream",
     "text": [
      "train 0.6858341693878174\n"
     ]
    },
    {
     "name": "stderr",
     "output_type": "stream",
     "text": [
      "\n",
      "1it [02:04, 124.85s/it]\u001b[A\n",
      " 70%|███████   | 14/20 [2:04:35<53:23, 533.95s/it]  "
     ]
    },
    {
     "name": "stdout",
     "output_type": "stream",
     "text": [
      "eval 0.6713637709617615\n"
     ]
    },
    {
     "name": "stderr",
     "output_type": "stream",
     "text": [
      "\n",
      "0it [00:00, ?it/s]\u001b[A"
     ]
    },
    {
     "name": "stdout",
     "output_type": "stream",
     "text": [
      "train 0.6852577328681946\n"
     ]
    },
    {
     "name": "stderr",
     "output_type": "stream",
     "text": [
      "\n",
      "1it [02:04, 124.82s/it]\u001b[A\n",
      " 75%|███████▌  | 15/20 [2:13:28<44:29, 533.90s/it]"
     ]
    },
    {
     "name": "stdout",
     "output_type": "stream",
     "text": [
      "eval 0.6697580218315125\n"
     ]
    },
    {
     "name": "stderr",
     "output_type": "stream",
     "text": [
      "\n",
      "0it [00:00, ?it/s]\u001b[A"
     ]
    },
    {
     "name": "stdout",
     "output_type": "stream",
     "text": [
      "train 0.684688925743103\n"
     ]
    },
    {
     "name": "stderr",
     "output_type": "stream",
     "text": [
      "\n",
      "1it [02:05, 125.07s/it]\u001b[A\n",
      " 80%|████████  | 16/20 [2:22:28<35:37, 534.29s/it]"
     ]
    },
    {
     "name": "stdout",
     "output_type": "stream",
     "text": [
      "eval 0.6681678295135498\n"
     ]
    },
    {
     "name": "stderr",
     "output_type": "stream",
     "text": [
      "\n",
      "0it [00:00, ?it/s]\u001b[A"
     ]
    },
    {
     "name": "stdout",
     "output_type": "stream",
     "text": [
      "train 0.6841288208961487\n"
     ]
    },
    {
     "name": "stderr",
     "output_type": "stream",
     "text": [
      "\n",
      "1it [02:05, 125.20s/it]\u001b[A\n",
      " 85%|████████▌ | 17/20 [2:31:21<26:42, 534.19s/it]"
     ]
    },
    {
     "name": "stdout",
     "output_type": "stream",
     "text": [
      "eval 0.6665942072868347\n"
     ]
    },
    {
     "name": "stderr",
     "output_type": "stream",
     "text": [
      "\n",
      "0it [00:00, ?it/s]\u001b[A"
     ]
    },
    {
     "name": "stdout",
     "output_type": "stream",
     "text": [
      "train 0.683577299118042\n"
     ]
    },
    {
     "name": "stderr",
     "output_type": "stream",
     "text": [
      "\n",
      "1it [02:22, 142.01s/it]\u001b[A\n",
      " 90%|█████████ | 18/20 [2:40:30<17:50, 535.04s/it]"
     ]
    },
    {
     "name": "stdout",
     "output_type": "stream",
     "text": [
      "eval 0.6650362610816956\n"
     ]
    },
    {
     "name": "stderr",
     "output_type": "stream",
     "text": [
      "\n",
      "0it [00:00, ?it/s]\u001b[A"
     ]
    },
    {
     "name": "stdout",
     "output_type": "stream",
     "text": [
      "train 0.6830350160598755\n"
     ]
    },
    {
     "name": "stderr",
     "output_type": "stream",
     "text": [
      "\n",
      "1it [02:04, 124.92s/it]\u001b[A\n",
      " 95%|█████████▌| 19/20 [2:49:48<08:56, 536.22s/it]"
     ]
    },
    {
     "name": "stdout",
     "output_type": "stream",
     "text": [
      "eval 0.6634958386421204\n"
     ]
    },
    {
     "name": "stderr",
     "output_type": "stream",
     "text": [
      "\n",
      "0it [00:00, ?it/s]\u001b[A"
     ]
    },
    {
     "name": "stdout",
     "output_type": "stream",
     "text": [
      "train 0.6825010180473328\n"
     ]
    },
    {
     "name": "stderr",
     "output_type": "stream",
     "text": [
      "\n",
      "1it [02:08, 128.30s/it]\u001b[A\n",
      "100%|██████████| 20/20 [2:58:53<00:00, 536.69s/it]\n"
     ]
    },
    {
     "name": "stdout",
     "output_type": "stream",
     "text": [
      "eval 0.6619721055030823\n",
      "accuracy  0.6465116279069767\n"
     ]
    }
   ],
   "source": [
    "epochs = 20\n",
    "train_ACC=[]\n",
    "test_ACC=[]\n",
    "writer = SummaryWriter(log_dir=\"tensorboard/\")\n",
    "for i in tqdm(range(epochs)):\n",
    "    net.train()\n",
    "    loss_train = 0\n",
    "    for j,d in enumerate(D_train_loader):\n",
    "        optimizer.zero_grad()\n",
    "        input, target = d[0], d[1]\n",
    "        out = net(input)\n",
    "        loss = criterion(out, target.view(-1))\n",
    "        loss.backward()\n",
    "        optimizer.step()\n",
    "        loss_train+=loss.item()\n",
    "    print('train', loss_train)\n",
    "    train_ACC.append(loss_train)\n",
    "    loss_eval = 0\n",
    "    net.eval()\n",
    "    for j,d in tqdm(enumerate(D_eval_loader)):\n",
    "        input, target = d[0], d[1]\n",
    "        with torch.no_grad():\n",
    "            out = net(input)\n",
    "        loss_eval+=criterion(out, target.view(-1)).item()\n",
    "    print('eval', loss_eval)\n",
    "    test_ACC.append(loss_eval)\n",
    "    writer.add_scalar('train_loss', loss_train, i)\n",
    "    writer.add_scalar('eval_loss', loss_eval, i)\n",
    "total = 0\n",
    "corr = 0\n",
    "for j,d in enumerate(D_train_loader):\n",
    "        optimizer.zero_grad()\n",
    "        input, target = d[0], d[1]\n",
    "        out = net(input)\n",
    "        total += len(out)\n",
    "        for i in range(len(out)):\n",
    "            val1, val2 = out[i][0], out[i][1]\n",
    "            if val1>val2 and target[i] == 0:\n",
    "                corr +=1\n",
    "            if val2>val1 and target[i] == 1:\n",
    "                corr+=1\n",
    "print('accuracy ', corr/total)"
   ]
  },
  {
   "cell_type": "code",
   "execution_count": 7,
   "metadata": {},
   "outputs": [
    {
     "name": "stderr",
     "output_type": "stream",
     "text": [
      "  0%|          | 0/10 [00:00<?, ?it/s]\n",
      "0it [00:00, ?it/s]\u001b[A"
     ]
    },
    {
     "name": "stdout",
     "output_type": "stream",
     "text": [
      "train 0.6920790672302246\n"
     ]
    },
    {
     "name": "stderr",
     "output_type": "stream",
     "text": [
      "\n",
      "1it [02:05, 125.86s/it]\u001b[A\n",
      " 10%|█         | 1/10 [08:58<1:20:48, 538.75s/it]"
     ]
    },
    {
     "name": "stdout",
     "output_type": "stream",
     "text": [
      "eval 0.6889710426330566\n"
     ]
    },
    {
     "name": "stderr",
     "output_type": "stream",
     "text": [
      "\n",
      "0it [00:00, ?it/s]\u001b[A"
     ]
    },
    {
     "name": "stdout",
     "output_type": "stream",
     "text": [
      "train 0.6915149688720703\n"
     ]
    },
    {
     "name": "stderr",
     "output_type": "stream",
     "text": [
      "\n",
      "1it [02:06, 126.27s/it]\u001b[A\n",
      " 20%|██        | 2/10 [17:56<1:11:46, 538.35s/it]"
     ]
    },
    {
     "name": "stdout",
     "output_type": "stream",
     "text": [
      "eval 0.6874924302101135\n"
     ]
    },
    {
     "name": "stderr",
     "output_type": "stream",
     "text": [
      "\n",
      "0it [00:00, ?it/s]\u001b[A"
     ]
    },
    {
     "name": "stdout",
     "output_type": "stream",
     "text": [
      "train 0.6909576654434204\n"
     ]
    },
    {
     "name": "stderr",
     "output_type": "stream",
     "text": [
      "\n",
      "1it [02:06, 126.44s/it]\u001b[A\n",
      " 30%|███       | 3/10 [26:54<1:02:46, 538.04s/it]"
     ]
    },
    {
     "name": "stdout",
     "output_type": "stream",
     "text": [
      "eval 0.6860289573669434\n"
     ]
    },
    {
     "name": "stderr",
     "output_type": "stream",
     "text": [
      "\n",
      "0it [00:00, ?it/s]\u001b[A"
     ]
    },
    {
     "name": "stdout",
     "output_type": "stream",
     "text": [
      "train 0.6904079914093018\n"
     ]
    },
    {
     "name": "stderr",
     "output_type": "stream",
     "text": [
      "\n",
      "1it [02:06, 126.23s/it]\u001b[A\n",
      " 40%|████      | 4/10 [35:51<53:46, 537.80s/it]  "
     ]
    },
    {
     "name": "stdout",
     "output_type": "stream",
     "text": [
      "eval 0.6845799088478088\n"
     ]
    },
    {
     "name": "stderr",
     "output_type": "stream",
     "text": [
      "\n",
      "0it [00:00, ?it/s]\u001b[A"
     ]
    },
    {
     "name": "stdout",
     "output_type": "stream",
     "text": [
      "train 0.6898658871650696\n"
     ]
    },
    {
     "name": "stderr",
     "output_type": "stream",
     "text": [
      "\n",
      "1it [02:06, 126.31s/it]\u001b[A\n",
      " 50%|█████     | 5/10 [44:48<44:48, 537.69s/it]"
     ]
    },
    {
     "name": "stdout",
     "output_type": "stream",
     "text": [
      "eval 0.6831434369087219\n"
     ]
    },
    {
     "name": "stderr",
     "output_type": "stream",
     "text": [
      "\n",
      "0it [00:00, ?it/s]\u001b[A"
     ]
    },
    {
     "name": "stdout",
     "output_type": "stream",
     "text": [
      "train 0.6893309354782104\n"
     ]
    },
    {
     "name": "stderr",
     "output_type": "stream",
     "text": [
      "\n",
      "1it [02:06, 126.16s/it]\u001b[A\n",
      " 60%|██████    | 6/10 [53:45<35:50, 537.64s/it]"
     ]
    },
    {
     "name": "stdout",
     "output_type": "stream",
     "text": [
      "eval 0.6817206740379333\n"
     ]
    },
    {
     "name": "stderr",
     "output_type": "stream",
     "text": [
      "\n",
      "0it [00:00, ?it/s]\u001b[A"
     ]
    },
    {
     "name": "stdout",
     "output_type": "stream",
     "text": [
      "train 0.6888034343719482\n"
     ]
    },
    {
     "name": "stderr",
     "output_type": "stream",
     "text": [
      "\n",
      "1it [02:07, 127.01s/it]\u001b[A\n",
      " 70%|███████   | 7/10 [1:02:43<26:53, 537.68s/it]"
     ]
    },
    {
     "name": "stdout",
     "output_type": "stream",
     "text": [
      "eval 0.6803126335144043\n"
     ]
    },
    {
     "name": "stderr",
     "output_type": "stream",
     "text": [
      "\n",
      "0it [00:00, ?it/s]\u001b[A"
     ]
    },
    {
     "name": "stdout",
     "output_type": "stream",
     "text": [
      "train 0.6882848739624023\n"
     ]
    },
    {
     "name": "stderr",
     "output_type": "stream",
     "text": [
      "\n",
      "1it [02:06, 126.06s/it]\u001b[A\n",
      " 80%|████████  | 8/10 [1:11:41<17:55, 537.65s/it]"
     ]
    },
    {
     "name": "stdout",
     "output_type": "stream",
     "text": [
      "eval 0.6789169907569885\n"
     ]
    },
    {
     "name": "stderr",
     "output_type": "stream",
     "text": [
      "\n",
      "0it [00:00, ?it/s]\u001b[A"
     ]
    },
    {
     "name": "stdout",
     "output_type": "stream",
     "text": [
      "train 0.6877725720405579\n"
     ]
    },
    {
     "name": "stderr",
     "output_type": "stream",
     "text": [
      "\n",
      "1it [02:06, 126.24s/it]\u001b[A\n",
      " 90%|█████████ | 9/10 [1:20:38<08:57, 537.56s/it]"
     ]
    },
    {
     "name": "stdout",
     "output_type": "stream",
     "text": [
      "eval 0.6775332093238831\n"
     ]
    },
    {
     "name": "stderr",
     "output_type": "stream",
     "text": [
      "\n",
      "0it [00:00, ?it/s]\u001b[A"
     ]
    },
    {
     "name": "stdout",
     "output_type": "stream",
     "text": [
      "train 0.6872667670249939\n"
     ]
    },
    {
     "name": "stderr",
     "output_type": "stream",
     "text": [
      "\n",
      "1it [02:06, 126.15s/it]\u001b[A\n",
      "100%|██████████| 10/10 [1:29:35<00:00, 537.52s/it]\n"
     ]
    },
    {
     "name": "stdout",
     "output_type": "stream",
     "text": [
      "eval 0.6761617660522461\n",
      "accuracy  0.6465116279069767\n"
     ]
    }
   ],
   "source": [
    "epochs = 10\n",
    "train_ACC=[]\n",
    "test_ACC=[]\n",
    "writer = SummaryWriter(log_dir=\"tensorboard/\")\n",
    "for i in tqdm(range(epochs)):\n",
    "    net.train()\n",
    "    loss_train = 0\n",
    "    for j,d in enumerate(D_train_loader):\n",
    "        optimizer.zero_grad()\n",
    "        input, target = d[0], d[1]\n",
    "        out = net(input)\n",
    "        loss = criterion(out, target.view(-1))\n",
    "        loss.backward()\n",
    "        optimizer.step()\n",
    "        loss_train+=loss.item()\n",
    "    print('train', loss_train)\n",
    "    train_ACC.append(loss_train)\n",
    "    loss_eval = 0\n",
    "    net.eval()\n",
    "    for j,d in tqdm(enumerate(D_eval_loader)):\n",
    "        input, target = d[0], d[1]\n",
    "        with torch.no_grad():\n",
    "            out = net(input)\n",
    "        loss_eval+=criterion(out, target.view(-1)).item()\n",
    "    print('eval', loss_eval)\n",
    "    test_ACC.append(loss_eval)\n",
    "    writer.add_scalar('train_loss', loss_train, i)\n",
    "    writer.add_scalar('eval_loss', loss_eval, i)\n",
    "total = 0\n",
    "corr = 0\n",
    "for j,d in enumerate(D_train_loader):\n",
    "        optimizer.zero_grad()\n",
    "        input, target = d[0], d[1]\n",
    "        out = net(input)\n",
    "        total += len(out)\n",
    "        for i in range(len(out)):\n",
    "            val1, val2 = out[i][0], out[i][1]\n",
    "            if val1>val2 and target[i] == 0:\n",
    "                corr +=1\n",
    "            if val2>val1 and target[i] == 1:\n",
    "                corr+=1\n",
    "print('accuracy ', corr/total)"
   ]
  }
 ],
 "metadata": {
  "kernelspec": {
   "display_name": "Python 3",
   "language": "python",
   "name": "python3"
  },
  "language_info": {
   "codemirror_mode": {
    "name": "ipython",
    "version": 3
   },
   "file_extension": ".py",
   "mimetype": "text/x-python",
   "name": "python",
   "nbconvert_exporter": "python",
   "pygments_lexer": "ipython3",
   "version": "3.6.6"
  }
 },
 "nbformat": 4,
 "nbformat_minor": 2
}
